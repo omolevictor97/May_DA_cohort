{
  "nbformat": 4,
  "nbformat_minor": 0,
  "metadata": {
    "colab": {
      "provenance": []
    },
    "kernelspec": {
      "name": "python3",
      "display_name": "Python 3"
    },
    "language_info": {
      "name": "python"
    }
  },
  "cells": [
    {
      "cell_type": "code",
      "execution_count": 2,
      "metadata": {
        "colab": {
          "base_uri": "https://localhost:8080/"
        },
        "id": "KzK36ja6dDEz",
        "outputId": "4be7a4bb-bc74-4e82-91ce-6c29cf688a3d"
      },
      "outputs": [
        {
          "output_type": "execute_result",
          "data": {
            "text/plain": [
              "9"
            ]
          },
          "metadata": {},
          "execution_count": 2
        }
      ],
      "source": [
        "9"
      ]
    },
    {
      "cell_type": "code",
      "source": [
        "\"start\""
      ],
      "metadata": {
        "colab": {
          "base_uri": "https://localhost:8080/",
          "height": 35
        },
        "id": "2YI59T21fatD",
        "outputId": "64ca355b-2d01-46ad-dd4b-3bad0471c6d0"
      },
      "execution_count": 3,
      "outputs": [
        {
          "output_type": "execute_result",
          "data": {
            "text/plain": [
              "'start'"
            ],
            "application/vnd.google.colaboratory.intrinsic+json": {
              "type": "string"
            }
          },
          "metadata": {},
          "execution_count": 3
        }
      ]
    },
    {
      "cell_type": "code",
      "source": [
        "print(45)"
      ],
      "metadata": {
        "colab": {
          "base_uri": "https://localhost:8080/"
        },
        "id": "lQTKRby8hHGJ",
        "outputId": "a7a48f67-8f19-4c87-9c21-9bf5e4fb5d4e"
      },
      "execution_count": 4,
      "outputs": [
        {
          "output_type": "stream",
          "name": "stdout",
          "text": [
            "45\n"
          ]
        }
      ]
    },
    {
      "cell_type": "code",
      "source": [
        "hkldjhasdnmbhasvbzxasdv"
      ],
      "metadata": {
        "colab": {
          "base_uri": "https://localhost:8080/",
          "height": 141
        },
        "id": "241wrkTFj08g",
        "outputId": "7d7a3655-79c4-4ded-e5f6-25732309f136"
      },
      "execution_count": 8,
      "outputs": [
        {
          "output_type": "error",
          "ename": "NameError",
          "evalue": "name 'hkldjhasdnmbhasvbzxasdv' is not defined",
          "traceback": [
            "\u001b[0;31m---------------------------------------------------------------------------\u001b[0m",
            "\u001b[0;31mNameError\u001b[0m                                 Traceback (most recent call last)",
            "\u001b[0;32m<ipython-input-8-877e63a72ee9>\u001b[0m in \u001b[0;36m<cell line: 1>\u001b[0;34m()\u001b[0m\n\u001b[0;32m----> 1\u001b[0;31m \u001b[0mhkldjhasdnmbhasvbzxasdv\u001b[0m\u001b[0;34m\u001b[0m\u001b[0;34m\u001b[0m\u001b[0m\n\u001b[0m",
            "\u001b[0;31mNameError\u001b[0m: name 'hkldjhasdnmbhasvbzxasdv' is not defined"
          ]
        }
      ]
    },
    {
      "cell_type": "markdown",
      "source": [
        "nklasdbvhsdfcnm,"
      ],
      "metadata": {
        "id": "ZON7PRnxj-VS"
      }
    },
    {
      "cell_type": "code",
      "source": [],
      "metadata": {
        "id": "3Fk0EkYMj0zO"
      },
      "execution_count": null,
      "outputs": []
    },
    {
      "cell_type": "code",
      "source": [],
      "metadata": {
        "id": "v25dg4jBj0rI"
      },
      "execution_count": null,
      "outputs": []
    },
    {
      "cell_type": "code",
      "source": [],
      "metadata": {
        "id": "-ekIpvZvj0R6"
      },
      "execution_count": null,
      "outputs": []
    },
    {
      "cell_type": "code",
      "source": [
        "print(3+3-4*3+9)"
      ],
      "metadata": {
        "colab": {
          "base_uri": "https://localhost:8080/"
        },
        "id": "eklpxblKhMp3",
        "outputId": "36926d32-f1dc-4221-942c-d067f20b7538"
      },
      "execution_count": 5,
      "outputs": [
        {
          "output_type": "stream",
          "name": "stdout",
          "text": [
            "3\n"
          ]
        }
      ]
    },
    {
      "cell_type": "code",
      "source": [
        "3+3-4*3+9"
      ],
      "metadata": {
        "colab": {
          "base_uri": "https://localhost:8080/"
        },
        "id": "XwhmVG1GhVr2",
        "outputId": "53096c40-6681-429f-9dcc-01e8fd42ab8b"
      },
      "execution_count": 6,
      "outputs": [
        {
          "output_type": "execute_result",
          "data": {
            "text/plain": [
              "3"
            ]
          },
          "metadata": {},
          "execution_count": 6
        }
      ]
    },
    {
      "cell_type": "markdown",
      "source": [
        "### What is a Variable???\n",
        "\n",
        "---\n",
        "\n",
        "In programming, a variable is a value that can change, depending on conditions or on information passed to the program.  <br>\n",
        "Typically, a program consists of instructions that tell the computer what to do and data that the program uses when it is running.\n",
        "\n",
        "---"
      ],
      "metadata": {
        "id": "nebJ-4Dbh5PO"
      }
    },
    {
      "cell_type": "code",
      "source": [],
      "metadata": {
        "colab": {
          "base_uri": "https://localhost:8080/",
          "height": 106
        },
        "id": "BUywvNJthvrd",
        "outputId": "3f1693ef-b3e7-4db6-9e4b-d97ed6c65ecd"
      },
      "execution_count": 7,
      "outputs": [
        {
          "output_type": "error",
          "ename": "SyntaxError",
          "evalue": "invalid syntax (<ipython-input-7-23d4861e965e>, line 3)",
          "traceback": [
            "\u001b[0;36m  File \u001b[0;32m\"<ipython-input-7-23d4861e965e>\"\u001b[0;36m, line \u001b[0;32m3\u001b[0m\n\u001b[0;31m    ---\u001b[0m\n\u001b[0m       ^\u001b[0m\n\u001b[0;31mSyntaxError\u001b[0m\u001b[0;31m:\u001b[0m invalid syntax\n"
          ]
        }
      ]
    },
    {
      "cell_type": "markdown",
      "source": [
        "#### Conventional rules to naming or defining a variable in programming (Python)\n",
        "---\n",
        "* A variable name must and can never start with an integer(Number)\n",
        "* Apart from underscore (_), no other special character should be begin or be in a variable name (!@#$%^*()-\"':;><./|\\)\n",
        "* When you have more than one variable name, always choose the snake_case for clarity sake e.g 'myname' is a valid variable name but 'my_name' is readable\n",
        "* A python keyword should never be used as a variable as this could cause future conflicts\n",
        "\n",
        "---"
      ],
      "metadata": {
        "id": "2sG51Ss1jr8-"
      }
    },
    {
      "cell_type": "code",
      "source": [
        "# example of valid variable name\n",
        "\n",
        "my_name = \"something\"\n",
        "car_name = \"some car\"\n",
        "My_name = \"something else\"\n",
        "My_Name = \"something else 2\"\n",
        "_my_name = \"Confirm\"\n",
        "\n",
        "\n",
        "# example of invalid variable names\n",
        "@my_name\n",
        "#my_name\n",
        "()my_var\n",
        "\n",
        "\n",
        "# example of valid but not conventional\n",
        "myvar = 56\n",
        "MyVar = 56\n",
        "myVar = 56"
      ],
      "metadata": {
        "id": "3u2E79N3ltLQ"
      },
      "execution_count": null,
      "outputs": []
    },
    {
      "cell_type": "code",
      "source": [
        "class = 10\n",
        "\n",
        "print(class)"
      ],
      "metadata": {
        "colab": {
          "base_uri": "https://localhost:8080/",
          "height": 106
        },
        "id": "v3EIBElDhb9-",
        "outputId": "5a67ecc0-9e0a-4301-cd80-1baf482b6869"
      },
      "execution_count": 10,
      "outputs": [
        {
          "output_type": "error",
          "ename": "SyntaxError",
          "evalue": "invalid syntax (<ipython-input-10-56f03bbc1e64>, line 1)",
          "traceback": [
            "\u001b[0;36m  File \u001b[0;32m\"<ipython-input-10-56f03bbc1e64>\"\u001b[0;36m, line \u001b[0;32m1\u001b[0m\n\u001b[0;31m    class = 10\u001b[0m\n\u001b[0m          ^\u001b[0m\n\u001b[0;31mSyntaxError\u001b[0m\u001b[0;31m:\u001b[0m invalid syntax\n"
          ]
        }
      ]
    },
    {
      "cell_type": "code",
      "source": [
        "list = 10\n",
        "\n",
        "print(list)"
      ],
      "metadata": {
        "colab": {
          "base_uri": "https://localhost:8080/"
        },
        "id": "Gc2qGYILk5wS",
        "outputId": "0355faca-cd4c-4708-adec-c540b250f4b5"
      },
      "execution_count": 11,
      "outputs": [
        {
          "output_type": "stream",
          "name": "stdout",
          "text": [
            "10\n"
          ]
        }
      ]
    },
    {
      "cell_type": "code",
      "source": [
        "x = 34\n",
        "\n",
        "print(x)"
      ],
      "metadata": {
        "colab": {
          "base_uri": "https://localhost:8080/"
        },
        "id": "l4YHvakClCdA",
        "outputId": "6246868c-a7ad-4413-f3ec-c9aec3c3b1d3"
      },
      "execution_count": 12,
      "outputs": [
        {
          "output_type": "stream",
          "name": "stdout",
          "text": [
            "34\n"
          ]
        }
      ]
    },
    {
      "cell_type": "code",
      "source": [
        "num_1 = 56\n",
        "\n",
        "num_2 = 12\n",
        "\n",
        "print(num_1 + num_2)"
      ],
      "metadata": {
        "colab": {
          "base_uri": "https://localhost:8080/"
        },
        "id": "XXknZfjBmO_l",
        "outputId": "e15a460c-4425-4dcf-f0e8-3258b7292aad"
      },
      "execution_count": 13,
      "outputs": [
        {
          "output_type": "stream",
          "name": "stdout",
          "text": [
            "68\n"
          ]
        }
      ]
    },
    {
      "cell_type": "code",
      "source": [
        "num_1 = 23\n",
        "\n",
        "num_2 = 34\n",
        "\n",
        "print(num_1 + num_2)"
      ],
      "metadata": {
        "colab": {
          "base_uri": "https://localhost:8080/"
        },
        "id": "H_t6cJZ-njD9",
        "outputId": "30183228-9cc6-4356-e022-a2d273e2520e"
      },
      "execution_count": 15,
      "outputs": [
        {
          "output_type": "stream",
          "name": "stdout",
          "text": [
            "57\n"
          ]
        }
      ]
    },
    {
      "cell_type": "markdown",
      "source": [
        "### Datatypes\n",
        "\n",
        "***Text Type:\tstr***<br>\n",
        "***Numeric Types:\tint, float, complex*** <br>\n",
        "***Boolean Type:\tbool (True and False)***"
      ],
      "metadata": {
        "id": "cluRxMinm4ZP"
      }
    },
    {
      "cell_type": "code",
      "source": [
        "first_str_data = 'Victor'  # first string with a single quote\n",
        "second_str_data = \"Han\"  # second string with a double quote\n",
        "third_str_data = \"\"\"is\"\"\"  # third string with a triple quote\n",
        "\n",
        "int_data = 41    # integer\n",
        "float_data = 3.412  #float datatype\n",
        "\n",
        "first_bool = True # Boolean with True Value\n",
        "second_bool = False   # Boolean with False Value"
      ],
      "metadata": {
        "id": "0nV74WEPn2Dz"
      },
      "execution_count": 16,
      "outputs": []
    },
    {
      "cell_type": "code",
      "source": [
        "print(type(first_str_data))"
      ],
      "metadata": {
        "colab": {
          "base_uri": "https://localhost:8080/"
        },
        "id": "XCVdgDh4p2-0",
        "outputId": "b2dc83b0-fc75-40ee-c637-aad4e88e1dbc"
      },
      "execution_count": 18,
      "outputs": [
        {
          "output_type": "stream",
          "name": "stdout",
          "text": [
            "<class 'str'>\n"
          ]
        }
      ]
    },
    {
      "cell_type": "code",
      "source": [
        "print(type(second_str_data))"
      ],
      "metadata": {
        "colab": {
          "base_uri": "https://localhost:8080/"
        },
        "id": "kWZKJqzJp9Qw",
        "outputId": "e228eb73-e9bb-402c-d1b8-c3e5c2cdcea5"
      },
      "execution_count": 19,
      "outputs": [
        {
          "output_type": "stream",
          "name": "stdout",
          "text": [
            "<class 'str'>\n"
          ]
        }
      ]
    },
    {
      "cell_type": "code",
      "source": [
        "print(type(third_str_data))"
      ],
      "metadata": {
        "colab": {
          "base_uri": "https://localhost:8080/"
        },
        "id": "QppVh21SqFJN",
        "outputId": "d5ce18ef-b1a0-412a-837a-73d38d3a4496"
      },
      "execution_count": 20,
      "outputs": [
        {
          "output_type": "stream",
          "name": "stdout",
          "text": [
            "<class 'str'>\n"
          ]
        }
      ]
    },
    {
      "cell_type": "code",
      "source": [
        "fourth_str_data = \"1234567\"\n",
        "\n",
        "print(type(fourth_str_data))"
      ],
      "metadata": {
        "colab": {
          "base_uri": "https://localhost:8080/"
        },
        "id": "CgDSIbF7rpeo",
        "outputId": "cfcf0cc0-e576-418a-c3d9-9afa7870e5ed"
      },
      "execution_count": 21,
      "outputs": [
        {
          "output_type": "stream",
          "name": "stdout",
          "text": [
            "<class 'str'>\n"
          ]
        }
      ]
    },
    {
      "cell_type": "code",
      "source": [
        "type(int_data)"
      ],
      "metadata": {
        "colab": {
          "base_uri": "https://localhost:8080/"
        },
        "id": "tiExODB3r1aM",
        "outputId": "bd8359d6-ce0a-49ed-d3be-17dd36e7080a"
      },
      "execution_count": 22,
      "outputs": [
        {
          "output_type": "execute_result",
          "data": {
            "text/plain": [
              "int"
            ]
          },
          "metadata": {},
          "execution_count": 22
        }
      ]
    },
    {
      "cell_type": "code",
      "source": [
        "type(float_data)"
      ],
      "metadata": {
        "colab": {
          "base_uri": "https://localhost:8080/"
        },
        "id": "6HBt9TresFnA",
        "outputId": "6aaf814f-75c2-442d-cb52-2a03b93f6efe"
      },
      "execution_count": 23,
      "outputs": [
        {
          "output_type": "execute_result",
          "data": {
            "text/plain": [
              "float"
            ]
          },
          "metadata": {},
          "execution_count": 23
        }
      ]
    },
    {
      "cell_type": "code",
      "source": [
        "type(first_bool)"
      ],
      "metadata": {
        "colab": {
          "base_uri": "https://localhost:8080/"
        },
        "id": "I7UB3zJMsIDf",
        "outputId": "e89e34e2-29a8-42da-997a-52b6dbfbeb7c"
      },
      "execution_count": 24,
      "outputs": [
        {
          "output_type": "execute_result",
          "data": {
            "text/plain": [
              "bool"
            ]
          },
          "metadata": {},
          "execution_count": 24
        }
      ]
    },
    {
      "cell_type": "code",
      "source": [
        "type(second_bool)"
      ],
      "metadata": {
        "colab": {
          "base_uri": "https://localhost:8080/"
        },
        "id": "XbjJelIQsKzE",
        "outputId": "a42b6d35-e57b-4828-ec04-725a98166d5a"
      },
      "execution_count": 25,
      "outputs": [
        {
          "output_type": "execute_result",
          "data": {
            "text/plain": [
              "bool"
            ]
          },
          "metadata": {},
          "execution_count": 25
        }
      ]
    },
    {
      "cell_type": "code",
      "source": [
        "input()"
      ],
      "metadata": {
        "colab": {
          "base_uri": "https://localhost:8080/",
          "height": 53
        },
        "id": "mRtO0KkVsNgr",
        "outputId": "ec9df65f-007c-497e-9a0e-1754e0539163"
      },
      "execution_count": 26,
      "outputs": [
        {
          "name": "stdout",
          "output_type": "stream",
          "text": [
            "jkdhfdshbgh\n"
          ]
        },
        {
          "output_type": "execute_result",
          "data": {
            "text/plain": [
              "'jkdhfdshbgh'"
            ],
            "application/vnd.google.colaboratory.intrinsic+json": {
              "type": "string"
            }
          },
          "metadata": {},
          "execution_count": 26
        }
      ]
    },
    {
      "cell_type": "code",
      "source": [
        "user_input = input(\"Enter your name: \")\n",
        "\n",
        "user_age =  input(\"Enter your age: \")\n",
        "\n",
        "\n",
        "print(user_input, user_age)"
      ],
      "metadata": {
        "colab": {
          "base_uri": "https://localhost:8080/"
        },
        "id": "0BnE49i3tF-8",
        "outputId": "eab86edc-b719-4825-80d3-232ba4aca21f"
      },
      "execution_count": 1,
      "outputs": [
        {
          "output_type": "stream",
          "name": "stdout",
          "text": [
            "Enter your name: Hi, you are weolcom\n",
            "Enter your age: 23\n",
            "Hi, you are weolcom 23\n"
          ]
        }
      ]
    },
    {
      "cell_type": "markdown",
      "source": [
        "You can use the len() function to check the number of characters in an array, for example strings, list, tuples, set, dictionary but never can it work on a number or float"
      ],
      "metadata": {
        "id": "xvj-y9yOoCNR"
      }
    },
    {
      "cell_type": "code",
      "source": [
        "x = len(user_input)\n",
        "\n",
        "print(x)"
      ],
      "metadata": {
        "colab": {
          "base_uri": "https://localhost:8080/"
        },
        "id": "zWOacfGsoSgH",
        "outputId": "9baeb567-a965-4e58-bc5b-c8b14cbc8542"
      },
      "execution_count": 2,
      "outputs": [
        {
          "output_type": "stream",
          "name": "stdout",
          "text": [
            "19\n"
          ]
        }
      ]
    },
    {
      "cell_type": "code",
      "source": [
        "# What happens if you want to use len on a number, an error will be thrown\n",
        "\n",
        "x =  len(23)\n",
        "\n",
        "print(x)"
      ],
      "metadata": {
        "colab": {
          "base_uri": "https://localhost:8080/",
          "height": 211
        },
        "id": "RrqNEuWEoWhI",
        "outputId": "104189e7-1f52-44ee-d191-540decea92a9"
      },
      "execution_count": 3,
      "outputs": [
        {
          "output_type": "error",
          "ename": "TypeError",
          "evalue": "object of type 'int' has no len()",
          "traceback": [
            "\u001b[0;31m---------------------------------------------------------------------------\u001b[0m",
            "\u001b[0;31mTypeError\u001b[0m                                 Traceback (most recent call last)",
            "\u001b[0;32m<ipython-input-3-715e64f72f08>\u001b[0m in \u001b[0;36m<cell line: 3>\u001b[0;34m()\u001b[0m\n\u001b[1;32m      1\u001b[0m \u001b[0;31m# What happens if you want to use len on a number, an error will be thrown\u001b[0m\u001b[0;34m\u001b[0m\u001b[0;34m\u001b[0m\u001b[0m\n\u001b[1;32m      2\u001b[0m \u001b[0;34m\u001b[0m\u001b[0m\n\u001b[0;32m----> 3\u001b[0;31m \u001b[0mx\u001b[0m \u001b[0;34m=\u001b[0m  \u001b[0mlen\u001b[0m\u001b[0;34m(\u001b[0m\u001b[0;36m23\u001b[0m\u001b[0;34m)\u001b[0m\u001b[0;34m\u001b[0m\u001b[0;34m\u001b[0m\u001b[0m\n\u001b[0m\u001b[1;32m      4\u001b[0m \u001b[0;34m\u001b[0m\u001b[0m\n\u001b[1;32m      5\u001b[0m \u001b[0mprint\u001b[0m\u001b[0;34m(\u001b[0m\u001b[0mx\u001b[0m\u001b[0;34m)\u001b[0m\u001b[0;34m\u001b[0m\u001b[0;34m\u001b[0m\u001b[0m\n",
            "\u001b[0;31mTypeError\u001b[0m: object of type 'int' has no len()"
          ]
        }
      ]
    },
    {
      "cell_type": "code",
      "source": [
        "type(user_age)"
      ],
      "metadata": {
        "colab": {
          "base_uri": "https://localhost:8080/"
        },
        "id": "UF_brxmOtaca",
        "outputId": "a46d193a-aa3a-4bd7-c46c-67b4064464c3"
      },
      "execution_count": 30,
      "outputs": [
        {
          "output_type": "execute_result",
          "data": {
            "text/plain": [
              "str"
            ]
          },
          "metadata": {},
          "execution_count": 30
        }
      ]
    },
    {
      "cell_type": "markdown",
      "source": [
        "### Operations on datatypes\n",
        "\n",
        "---\n",
        "The operations in programming are relative, what you can do with some operators using a datatype is usually unique to the datatype <br>\n",
        "\n",
        "We have several Operations kindly use this [link](https://www.w3schools.com/python/python_operators.asp) to learn the operators and how they work\n",
        "\n",
        "---"
      ],
      "metadata": {
        "id": "D3dMVuE1uAJW"
      }
    },
    {
      "cell_type": "code",
      "source": [
        "x = 34\n",
        "y = 24.3\n",
        "\n",
        "str_1 = 'Victor'\n",
        "str_2 = 'Han'\n",
        "\n",
        "print(x + y)"
      ],
      "metadata": {
        "colab": {
          "base_uri": "https://localhost:8080/"
        },
        "id": "3pfMfjeQt4n8",
        "outputId": "c59b842f-57c2-4046-94b2-2abbec364c9a"
      },
      "execution_count": 42,
      "outputs": [
        {
          "output_type": "stream",
          "name": "stdout",
          "text": [
            "58.3\n"
          ]
        }
      ]
    },
    {
      "cell_type": "code",
      "source": [
        "print(str_1 + str_2)"
      ],
      "metadata": {
        "colab": {
          "base_uri": "https://localhost:8080/"
        },
        "id": "rQzmkiC4uOda",
        "outputId": "b0df38c7-e06a-4349-f9de-094450943519"
      },
      "execution_count": 32,
      "outputs": [
        {
          "output_type": "stream",
          "name": "stdout",
          "text": [
            "VictorHan\n"
          ]
        }
      ]
    },
    {
      "cell_type": "code",
      "source": [
        "print(str_1 + \", \" + str_2)"
      ],
      "metadata": {
        "colab": {
          "base_uri": "https://localhost:8080/"
        },
        "id": "B1nIoMSkuktz",
        "outputId": "3d4bda93-847b-4105-ebee-927e0c26db9a"
      },
      "execution_count": 34,
      "outputs": [
        {
          "output_type": "stream",
          "name": "stdout",
          "text": [
            "Victor, Han\n"
          ]
        }
      ]
    },
    {
      "cell_type": "code",
      "source": [
        "print(str_1 + x)"
      ],
      "metadata": {
        "colab": {
          "base_uri": "https://localhost:8080/",
          "height": 141
        },
        "id": "trVf4x63up7K",
        "outputId": "a7afc858-a3d1-4b69-fb5c-c41249e2d030"
      },
      "execution_count": 35,
      "outputs": [
        {
          "output_type": "error",
          "ename": "TypeError",
          "evalue": "can only concatenate str (not \"int\") to str",
          "traceback": [
            "\u001b[0;31m---------------------------------------------------------------------------\u001b[0m",
            "\u001b[0;31mTypeError\u001b[0m                                 Traceback (most recent call last)",
            "\u001b[0;32m<ipython-input-35-354d760982ba>\u001b[0m in \u001b[0;36m<cell line: 1>\u001b[0;34m()\u001b[0m\n\u001b[0;32m----> 1\u001b[0;31m \u001b[0mprint\u001b[0m\u001b[0;34m(\u001b[0m\u001b[0mstr_1\u001b[0m \u001b[0;34m+\u001b[0m \u001b[0mx\u001b[0m\u001b[0;34m)\u001b[0m\u001b[0;34m\u001b[0m\u001b[0;34m\u001b[0m\u001b[0m\n\u001b[0m",
            "\u001b[0;31mTypeError\u001b[0m: can only concatenate str (not \"int\") to str"
          ]
        }
      ]
    },
    {
      "cell_type": "markdown",
      "source": [
        "### Type Casting"
      ],
      "metadata": {
        "id": "n-awVmHtvM13"
      }
    },
    {
      "cell_type": "markdown",
      "source": [
        "__Some times you might need to convert or \"cast\" an object to another datatype__ : This could be done by closing the object to be cast inside the desired datatype oject"
      ],
      "metadata": {
        "id": "WpZAmnk7pf-9"
      }
    },
    {
      "cell_type": "code",
      "source": [
        "y = int(y)\n",
        "\n",
        "print(y)"
      ],
      "metadata": {
        "colab": {
          "base_uri": "https://localhost:8080/"
        },
        "id": "pRrs63R8u-xL",
        "outputId": "0261358d-3b54-426d-90ff-9cd51118f64e"
      },
      "execution_count": 36,
      "outputs": [
        {
          "output_type": "stream",
          "name": "stdout",
          "text": [
            "24\n"
          ]
        }
      ]
    },
    {
      "cell_type": "code",
      "source": [
        "x = float(x)\n",
        "\n",
        "\n",
        "print(x, type(x))"
      ],
      "metadata": {
        "colab": {
          "base_uri": "https://localhost:8080/"
        },
        "id": "iJuNfIRDvZjx",
        "outputId": "5a4b862a-f026-488a-8c65-14e24db48d31"
      },
      "execution_count": 37,
      "outputs": [
        {
          "output_type": "stream",
          "name": "stdout",
          "text": [
            "34.0 <class 'float'>\n"
          ]
        }
      ]
    },
    {
      "cell_type": "code",
      "source": [
        "convertible_str = '1276'\n",
        "\n",
        "convertible_str = int(convertible_str)\n",
        "\n",
        "print(convertible_str, type(convertible_str))"
      ],
      "metadata": {
        "colab": {
          "base_uri": "https://localhost:8080/"
        },
        "id": "Nx_MKw5QvjnI",
        "outputId": "c26db1f1-c8ba-49b0-92f9-32c73031b0a2"
      },
      "execution_count": 40,
      "outputs": [
        {
          "output_type": "stream",
          "name": "stdout",
          "text": [
            "1276 <class 'int'>\n"
          ]
        }
      ]
    },
    {
      "cell_type": "code",
      "source": [
        "inconvertible_str = 'Boston'\n",
        "\n",
        "inconvertible_str = int(inconvertible_str)\n",
        "\n",
        "print(inconvertible_str)"
      ],
      "metadata": {
        "colab": {
          "base_uri": "https://localhost:8080/",
          "height": 211
        },
        "id": "mV0TtW2qv2jt",
        "outputId": "6c88d1bb-930c-4ae4-98c6-267b70b27736"
      },
      "execution_count": 41,
      "outputs": [
        {
          "output_type": "error",
          "ename": "ValueError",
          "evalue": "invalid literal for int() with base 10: 'Boston'",
          "traceback": [
            "\u001b[0;31m---------------------------------------------------------------------------\u001b[0m",
            "\u001b[0;31mValueError\u001b[0m                                Traceback (most recent call last)",
            "\u001b[0;32m<ipython-input-41-2a09b0e8defe>\u001b[0m in \u001b[0;36m<cell line: 3>\u001b[0;34m()\u001b[0m\n\u001b[1;32m      1\u001b[0m \u001b[0minconvertible_str\u001b[0m \u001b[0;34m=\u001b[0m \u001b[0;34m'Boston'\u001b[0m\u001b[0;34m\u001b[0m\u001b[0;34m\u001b[0m\u001b[0m\n\u001b[1;32m      2\u001b[0m \u001b[0;34m\u001b[0m\u001b[0m\n\u001b[0;32m----> 3\u001b[0;31m \u001b[0minconvertible_str\u001b[0m \u001b[0;34m=\u001b[0m \u001b[0mint\u001b[0m\u001b[0;34m(\u001b[0m\u001b[0minconvertible_str\u001b[0m\u001b[0;34m)\u001b[0m\u001b[0;34m\u001b[0m\u001b[0;34m\u001b[0m\u001b[0m\n\u001b[0m\u001b[1;32m      4\u001b[0m \u001b[0;34m\u001b[0m\u001b[0m\n\u001b[1;32m      5\u001b[0m \u001b[0mprint\u001b[0m\u001b[0;34m(\u001b[0m\u001b[0minconvertible_str\u001b[0m\u001b[0;34m)\u001b[0m\u001b[0;34m\u001b[0m\u001b[0;34m\u001b[0m\u001b[0m\n",
            "\u001b[0;31mValueError\u001b[0m: invalid literal for int() with base 10: 'Boston'"
          ]
        }
      ]
    },
    {
      "cell_type": "code",
      "source": [
        "print(str_1 + str(x))"
      ],
      "metadata": {
        "colab": {
          "base_uri": "https://localhost:8080/"
        },
        "id": "N3P_HtYzwFky",
        "outputId": "af392732-e2de-4582-f37d-7b152322381e"
      },
      "execution_count": 44,
      "outputs": [
        {
          "output_type": "stream",
          "name": "stdout",
          "text": [
            "Victor34\n"
          ]
        }
      ]
    },
    {
      "cell_type": "markdown",
      "source": [
        "### Conditionals\n",
        "\n",
        "___Conditionals for the basics for control flow in programs___<br>\n",
        "\n",
        "\n",
        "Basically, in python, we have the if, elif and else block <br>\n",
        "\n",
        "<strong>\n",
        "\n",
        "The if block runs whenever the condition is true, if false, checks if there is an elif block and continues this operation until there is an else block to be executed\n",
        "</strong> <br>\n",
        "\n",
        "So whatb happens if there is no \"else\" block???\n",
        "\n",
        "<br>\n",
        "run the program below to check"
      ],
      "metadata": {
        "id": "optP7IUGxCHp"
      }
    },
    {
      "cell_type": "code",
      "source": [],
      "metadata": {
        "id": "CK4JjnlGqkB0"
      },
      "execution_count": null,
      "outputs": []
    },
    {
      "cell_type": "code",
      "source": [
        "user_age = int(input(\"Enter your age: \"))\n",
        "\n",
        "if user_age >= 18:\n",
        "  print(\"You are old enough to vote!\")"
      ],
      "metadata": {
        "colab": {
          "base_uri": "https://localhost:8080/"
        },
        "id": "HNcoL6OlwNGO",
        "outputId": "e03e04de-e1e1-4339-c487-e7422fe80be9"
      },
      "execution_count": 4,
      "outputs": [
        {
          "name": "stdout",
          "output_type": "stream",
          "text": [
            "Enter your age: 12\n"
          ]
        }
      ]
    },
    {
      "cell_type": "markdown",
      "source": [
        "## Inference:\n",
        "\n",
        "Exactly, nothing happens because the condition is wrong, we must handle this either in the elif or the else block <br>\n",
        "\n",
        "## NB: Note that the 'elif' is usually followed by the 'else' block"
      ],
      "metadata": {
        "id": "EoVNV00DqsFR"
      }
    },
    {
      "cell_type": "code",
      "source": [
        "if user_age < 0:\n",
        "  print(\"You haven't been born yet!\")\n",
        "elif user_age > 0 and user_age < 18:\n",
        "  print(\"You are not old enough to vote!\")\n",
        "else:\n",
        "  print(\"You are old enough to vote\")"
      ],
      "metadata": {
        "colab": {
          "base_uri": "https://localhost:8080/"
        },
        "id": "XUXNYhQRxwat",
        "outputId": "d7846e2d-8ea3-426b-915a-1bcef5ac8e19"
      },
      "execution_count": 5,
      "outputs": [
        {
          "output_type": "stream",
          "name": "stdout",
          "text": [
            "You are not old enough to vote!\n"
          ]
        }
      ]
    },
    {
      "cell_type": "code",
      "source": [],
      "metadata": {
        "id": "I-k2eLgTrZoS"
      },
      "execution_count": null,
      "outputs": []
    }
  ]
}